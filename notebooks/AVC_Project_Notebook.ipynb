{
 "cells": [
  {
   "cell_type": "code",
   "execution_count": 24,
   "metadata": {},
   "outputs": [],
   "source": [
    "import pandas as pd\n",
    "from sklearn.model_selection import train_test_split\n",
    "from sklearn.linear_model import LogisticRegression\n",
    "from sklearn.metrics import classification_report\n",
    "from sklearn.ensemble import RandomForestClassifier\n",
    "from sklearn.ensemble import GradientBoostingClassifier\n",
    "from sklearn.utils import resample\n",
    "import numpy as np\n",
    "from scipy import spatial\n",
    "from sklearn.metrics import precision_recall_fscore_support as score\n",
    "from sklearn.metrics import make_scorer\n",
    "from sklearn.metrics import f1_score as f1s\n",
    "from sklearn.model_selection import GridSearchCV\n",
    "from sklearn.model_selection import cross_validate\n",
    "from sklearn.model_selection import RepeatedKFold\n",
    "from sklearn.model_selection import KFold"
   ]
  },
  {
   "cell_type": "markdown",
   "metadata": {},
   "source": [
    "## Read in Data and Aggregate by player"
   ]
  },
  {
   "cell_type": "code",
   "execution_count": 33,
   "metadata": {},
   "outputs": [
    {
     "data": {
      "text/plain": [
       "Index(['Unnamed: 0', 'Year', 'Player', 'Pos', 'Age', 'Tm', 'G', 'GS', 'MP',\n",
       "       'PER', 'TS%', '3PAr', 'FTr', 'ORB%', 'DRB%', 'TRB%', 'AST%', 'STL%',\n",
       "       'BLK%', 'TOV%', 'USG%', 'blanl', 'OWS', 'DWS', 'WS', 'WS/48', 'blank2',\n",
       "       'OBPM', 'DBPM', 'BPM', 'VORP', 'FG', 'FGA', 'FG%', '3P', '3PA', '3P%',\n",
       "       '2P', '2PA', '2P%', 'eFG%', 'FT', 'FTA', 'FT%', 'ORB', 'DRB', 'TRB',\n",
       "       'AST', 'STL', 'BLK', 'TOV', 'PF', 'PTS'],\n",
       "      dtype='object')"
      ]
     },
     "execution_count": 33,
     "metadata": {},
     "output_type": "execute_result"
    }
   ],
   "source": [
    "df = pd.read_csv('Seasons_Stats.csv')\n",
    "df.columns"
   ]
  },
  {
   "cell_type": "code",
   "execution_count": 34,
   "metadata": {},
   "outputs": [],
   "source": [
    "## select relevant columns and fill NA with 0\n",
    "## remove blank rows and rows representing total counts for a traded player mid season (will be combined later on)\n",
    "df_new = df[['Year','Player','Tm','G','WS','3P','TRB','AST','STL','BLK','PTS']].fillna(0).query('Year != 0 & Tm != \"TOT\"')"
   ]
  },
  {
   "cell_type": "code",
   "execution_count": 35,
   "metadata": {},
   "outputs": [],
   "source": [
    "## create HOF class - whether a player has an asterisk in the name\n",
    "df_new['HOF'] = df_new.Player.str.contains('\\\\*',regex=True).astype(int)"
   ]
  },
  {
   "cell_type": "markdown",
   "metadata": {},
   "source": [
    "## CALL READ IN DATA"
   ]
  },
  {
   "cell_type": "code",
   "execution_count": 41,
   "metadata": {},
   "outputs": [],
   "source": [
    "## create player aggregated data\n",
    "df_agg = df_new.groupby('Player').agg({'G':'sum', 'Year':'nunique', 'WS':'max','3P':'sum','TRB':'sum','AST':'sum',\n",
    "                                      'STL':'sum','BLK':'sum','PTS':'sum', 'HOF':'max'}).reset_index()"
   ]
  },
  {
   "cell_type": "code",
   "execution_count": 42,
   "metadata": {},
   "outputs": [
    {
     "data": {
      "text/plain": [
       "0    3793\n",
       "1     127\n",
       "Name: HOF, dtype: int64"
      ]
     },
     "execution_count": 42,
     "metadata": {},
     "output_type": "execute_result"
    }
   ],
   "source": [
    "df_agg.HOF.value_counts()"
   ]
  },
  {
   "cell_type": "markdown",
   "metadata": {},
   "source": [
    "### cleanup and exploration"
   ]
  },
  {
   "cell_type": "markdown",
   "metadata": {},
   "source": [
    "# create data set for the model"
   ]
  },
  {
   "cell_type": "code",
   "execution_count": 44,
   "metadata": {},
   "outputs": [
    {
     "data": {
      "text/plain": [
       "(1267, 11)"
      ]
     },
     "execution_count": 44,
     "metadata": {},
     "output_type": "execute_result"
    }
   ],
   "source": [
    "## only keep players who have played at least 8 seasons\n",
    "df_agg = df_agg[(df_agg['Year'] >=7)]\n",
    "\n",
    "df_agg.shape"
   ]
  },
  {
   "cell_type": "code",
   "execution_count": 38,
   "metadata": {},
   "outputs": [
    {
     "data": {
      "text/plain": [
       "0    1156\n",
       "1     111\n",
       "Name: HOF, dtype: int64"
      ]
     },
     "execution_count": 38,
     "metadata": {},
     "output_type": "execute_result"
    }
   ],
   "source": [
    "df_agg.HOF.value_counts()"
   ]
  },
  {
   "cell_type": "code",
   "execution_count": 45,
   "metadata": {},
   "outputs": [],
   "source": [
    "# find the most recent season that a player has played\n",
    "df_maxyear = df_new.groupby('Player').agg({'Year':'max'}).reset_index()"
   ]
  },
  {
   "cell_type": "code",
   "execution_count": 46,
   "metadata": {},
   "outputs": [],
   "source": [
    "## add most recent season to the data\n",
    "df_agg = pd.merge(df_agg,df_maxyear,on='Player')"
   ]
  },
  {
   "cell_type": "code",
   "execution_count": 47,
   "metadata": {},
   "outputs": [],
   "source": [
    "# calculate stats per game\n",
    "for i in range(4,10):\n",
    "    df_agg.iloc[:,i] = df_agg.iloc[:,i]/df_agg.iloc[:,1]\n",
    "    i+=1\n"
   ]
  },
  {
   "cell_type": "markdown",
   "metadata": {},
   "source": [
    "## CALL AGG PLAYER"
   ]
  },
  {
   "cell_type": "code",
   "execution_count": 15,
   "metadata": {},
   "outputs": [],
   "source": [
    "## create df for model -- only players who would be legible for HOF in 2016, i.e. last season before 2012\n",
    "df_model = df_agg[df_agg['Year_y'] <= 2011].drop(['Year_y'],axis=1)\n",
    "df_non_model = df_agg[df_agg['Year_y'] > 2011]"
   ]
  },
  {
   "cell_type": "code",
   "execution_count": 16,
   "metadata": {},
   "outputs": [
    {
     "data": {
      "text/html": [
       "<div>\n",
       "<style scoped>\n",
       "    .dataframe tbody tr th:only-of-type {\n",
       "        vertical-align: middle;\n",
       "    }\n",
       "\n",
       "    .dataframe tbody tr th {\n",
       "        vertical-align: top;\n",
       "    }\n",
       "\n",
       "    .dataframe thead th {\n",
       "        text-align: right;\n",
       "    }\n",
       "</style>\n",
       "<table border=\"1\" class=\"dataframe\">\n",
       "  <thead>\n",
       "    <tr style=\"text-align: right;\">\n",
       "      <th></th>\n",
       "      <th>Player</th>\n",
       "      <th>G</th>\n",
       "      <th>Year_x</th>\n",
       "      <th>WS</th>\n",
       "      <th>3P</th>\n",
       "      <th>TRB</th>\n",
       "      <th>AST</th>\n",
       "      <th>STL</th>\n",
       "      <th>BLK</th>\n",
       "      <th>PTS</th>\n",
       "      <th>HOF</th>\n",
       "    </tr>\n",
       "  </thead>\n",
       "  <tbody>\n",
       "    <tr>\n",
       "      <th>0</th>\n",
       "      <td>A.C. Green</td>\n",
       "      <td>1278.0</td>\n",
       "      <td>16</td>\n",
       "      <td>9.4</td>\n",
       "      <td>0.097027</td>\n",
       "      <td>7.412363</td>\n",
       "      <td>1.095462</td>\n",
       "      <td>0.808294</td>\n",
       "      <td>0.427230</td>\n",
       "      <td>9.648670</td>\n",
       "      <td>0</td>\n",
       "    </tr>\n",
       "    <tr>\n",
       "      <th>3</th>\n",
       "      <td>Aaron McKie</td>\n",
       "      <td>793.0</td>\n",
       "      <td>13</td>\n",
       "      <td>5.9</td>\n",
       "      <td>0.489281</td>\n",
       "      <td>3.262295</td>\n",
       "      <td>2.680958</td>\n",
       "      <td>1.150063</td>\n",
       "      <td>0.206810</td>\n",
       "      <td>7.403531</td>\n",
       "      <td>0</td>\n",
       "    </tr>\n",
       "    <tr>\n",
       "      <th>4</th>\n",
       "      <td>Aaron Williams</td>\n",
       "      <td>715.0</td>\n",
       "      <td>14</td>\n",
       "      <td>5.2</td>\n",
       "      <td>0.001399</td>\n",
       "      <td>3.902098</td>\n",
       "      <td>0.678322</td>\n",
       "      <td>0.394406</td>\n",
       "      <td>0.753846</td>\n",
       "      <td>5.762238</td>\n",
       "      <td>0</td>\n",
       "    </tr>\n",
       "    <tr>\n",
       "      <th>5</th>\n",
       "      <td>Adam Keefe</td>\n",
       "      <td>617.0</td>\n",
       "      <td>9</td>\n",
       "      <td>6.5</td>\n",
       "      <td>0.001621</td>\n",
       "      <td>4.142626</td>\n",
       "      <td>0.692058</td>\n",
       "      <td>0.497569</td>\n",
       "      <td>0.280389</td>\n",
       "      <td>5.035656</td>\n",
       "      <td>0</td>\n",
       "    </tr>\n",
       "    <tr>\n",
       "      <th>6</th>\n",
       "      <td>Adonal Foyle</td>\n",
       "      <td>733.0</td>\n",
       "      <td>12</td>\n",
       "      <td>4.0</td>\n",
       "      <td>0.000000</td>\n",
       "      <td>4.721692</td>\n",
       "      <td>0.469304</td>\n",
       "      <td>0.360164</td>\n",
       "      <td>1.627558</td>\n",
       "      <td>4.077763</td>\n",
       "      <td>0</td>\n",
       "    </tr>\n",
       "  </tbody>\n",
       "</table>\n",
       "</div>"
      ],
      "text/plain": [
       "           Player       G  Year_x   WS        3P       TRB       AST  \\\n",
       "0      A.C. Green  1278.0      16  9.4  0.097027  7.412363  1.095462   \n",
       "3     Aaron McKie   793.0      13  5.9  0.489281  3.262295  2.680958   \n",
       "4  Aaron Williams   715.0      14  5.2  0.001399  3.902098  0.678322   \n",
       "5      Adam Keefe   617.0       9  6.5  0.001621  4.142626  0.692058   \n",
       "6    Adonal Foyle   733.0      12  4.0  0.000000  4.721692  0.469304   \n",
       "\n",
       "        STL       BLK       PTS  HOF  \n",
       "0  0.808294  0.427230  9.648670    0  \n",
       "3  1.150063  0.206810  7.403531    0  \n",
       "4  0.394406  0.753846  5.762238    0  \n",
       "5  0.497569  0.280389  5.035656    0  \n",
       "6  0.360164  1.627558  4.077763    0  "
      ]
     },
     "execution_count": 16,
     "metadata": {},
     "output_type": "execute_result"
    }
   ],
   "source": [
    "df_model.head()"
   ]
  },
  {
   "cell_type": "code",
   "execution_count": null,
   "metadata": {},
   "outputs": [],
   "source": [
    "## select relevant fields that go into model fitting\n",
    "df_model_fit = df_model[['Year_x','WS','3P','TRB','AST','STL','BLK','PTS','HOF','Player']]\n",
    "df_non_model_fit = df_non_model[['Year_x','WS','3P','TRB','AST','STL','BLK','PTS','HOF','Player']]"
   ]
  },
  {
   "cell_type": "markdown",
   "metadata": {},
   "source": [
    "# Model Fitting"
   ]
  },
  {
   "cell_type": "markdown",
   "metadata": {},
   "source": [
    "## Logistic Regression"
   ]
  },
  {
   "cell_type": "code",
   "execution_count": 25,
   "metadata": {},
   "outputs": [],
   "source": [
    "def getIndices(K):\n",
    "    kf = KFold(n_splits=K, shuffle=True)\n",
    "    train_ind = []\n",
    "    test_ind = []\n",
    "\n",
    "    for train_index, test_index in kf.split(df_model_fit):\n",
    "        train_ind.append(train_index)\n",
    "        test_ind.append(test_index)\n",
    "    return train_ind, test_ind"
   ]
  },
  {
   "cell_type": "code",
   "execution_count": 30,
   "metadata": {},
   "outputs": [],
   "source": [
    "### logistic regression CV\n",
    "\n",
    "cv= RepeatedKFold(n_splits=10,n_repeats=10,random_state=132)\n",
    "myscore = make_scorer(f1s,average = 'macro',labels=[1])\n",
    "\n",
    "sc = []\n",
    "\n",
    "log = LogisticRegression()\n",
    "scores = cross_validate(log,df_model_fit.drop(['Player','HOF'],axis=1), df_model_fit.HOF, scoring=myscore,cv=cv, return_train_score=False)\n",
    "sc.append(scores['test_score'])\n"
   ]
  },
  {
   "cell_type": "code",
   "execution_count": 31,
   "metadata": {},
   "outputs": [
    {
     "data": {
      "text/plain": [
       "0.6927773245027656"
      ]
     },
     "execution_count": 31,
     "metadata": {},
     "output_type": "execute_result"
    }
   ],
   "source": [
    "np.mean(sc)"
   ]
  },
  {
   "cell_type": "code",
   "execution_count": 157,
   "metadata": {},
   "outputs": [
    {
     "data": {
      "text/plain": [
       "LogisticRegression(C=1.0, class_weight=None, dual=False, fit_intercept=True,\n",
       "          intercept_scaling=1, max_iter=100, multi_class='ovr', n_jobs=1,\n",
       "          penalty='l2', random_state=None, solver='liblinear', tol=0.0001,\n",
       "          verbose=0, warm_start=False)"
      ]
     },
     "execution_count": 157,
     "metadata": {},
     "output_type": "execute_result"
    }
   ],
   "source": [
    "logreg = LogisticRegression()\n",
    "logreg.fit(df_model_fit.drop(['Player','HOF'],axis=1), df_model_fit.HOF)"
   ]
  },
  {
   "cell_type": "code",
   "execution_count": 158,
   "metadata": {},
   "outputs": [],
   "source": [
    "y_pred = logreg.predict(df_model_fit.drop(['Player','HOF'],axis=1))"
   ]
  },
  {
   "cell_type": "markdown",
   "metadata": {},
   "source": [
    "### function to output prob of HOF"
   ]
  },
  {
   "cell_type": "code",
   "execution_count": 160,
   "metadata": {},
   "outputs": [],
   "source": [
    "def log_predict(player):\n",
    "    d = df_non_model_fit[df_non_model_fit['Player'] == player]\n",
    "    pred = logreg.predict(d.drop(['Player','HOF'],axis=1))\n",
    "    pred_prob = logreg.predict_proba(d.drop(['Player','HOF'],axis=1))\n",
    "    return pred, pred_prob\n",
    "    "
   ]
  },
  {
   "cell_type": "code",
   "execution_count": 161,
   "metadata": {},
   "outputs": [
    {
     "data": {
      "text/plain": [
       "(array([1]), array([[0.17835399, 0.82164601]]))"
      ]
     },
     "execution_count": 161,
     "metadata": {},
     "output_type": "execute_result"
    }
   ],
   "source": [
    "log_predict(\"Blake Griffin\")"
   ]
  },
  {
   "cell_type": "code",
   "execution_count": 162,
   "metadata": {},
   "outputs": [
    {
     "name": "stdout",
     "output_type": "stream",
     "text": [
      "Amar'e Stoudemire (array([1]), array([[0.38186754, 0.61813246]]))\n",
      "Blake Griffin (array([1]), array([[0.17835399, 0.82164601]]))\n",
      "Chris Paul (array([1]), array([[0.23981588, 0.76018412]]))\n",
      "Deron Williams (array([1]), array([[0.46998113, 0.53001887]]))\n",
      "Derrick Rose (array([1]), array([[0.18553422, 0.81446578]]))\n",
      "Dirk Nowitzki (array([1]), array([[0.24445321, 0.75554679]]))\n",
      "Dwight Howard (array([1]), array([[0.30193746, 0.69806254]]))\n",
      "Dwyane Wade (array([1]), array([[0.29873309, 0.70126691]]))\n",
      "Elton Brand (array([1]), array([[0.47525768, 0.52474232]]))\n",
      "James Harden (array([1]), array([[0.2098263, 0.7901737]]))\n",
      "John Wall (array([1]), array([[0.48161149, 0.51838851]]))\n",
      "Kevin Durant (array([1]), array([[0.04065112, 0.95934888]]))\n",
      "Kevin Garnett (array([1]), array([[0.27870852, 0.72129148]]))\n",
      "Kevin Love (array([1]), array([[0.2949604, 0.7050396]]))\n",
      "Kobe Bryant (array([1]), array([[0.43863303, 0.56136697]]))\n",
      "LeBron James (array([1]), array([[0.02829758, 0.97170242]]))\n",
      "Pau Gasol (array([1]), array([[0.16191907, 0.83808093]]))\n",
      "Russell Westbrook (array([1]), array([[0.1866955, 0.8133045]]))\n",
      "Stephen Curry (array([1]), array([[0.22975427, 0.77024573]]))\n",
      "Steve Nash (array([1]), array([[0.47705286, 0.52294714]]))\n",
      "Tim Duncan (array([1]), array([[0.08569227, 0.91430773]]))\n",
      "Tracy McGrady (array([1]), array([[0.34952062, 0.65047938]]))\n"
     ]
    }
   ],
   "source": [
    "## print HOF players\n",
    "for pl in df_non_model['Player']:\n",
    "    if log_predict(pl)[0] == 1:\n",
    "        print(pl + \" \" + str(log_predict(pl)))"
   ]
  },
  {
   "cell_type": "markdown",
   "metadata": {},
   "source": [
    "## Random Forest"
   ]
  },
  {
   "cell_type": "markdown",
   "metadata": {},
   "source": [
    "### tune the random forest"
   ]
  },
  {
   "cell_type": "code",
   "execution_count": 27,
   "metadata": {},
   "outputs": [
    {
     "data": {
      "text/plain": [
       "GridSearchCV(cv=<sklearn.model_selection._split.RepeatedKFold object at 0x00000203A084F4A8>,\n",
       "       error_score='raise',\n",
       "       estimator=RandomForestClassifier(bootstrap=True, class_weight=None, criterion='gini',\n",
       "            max_depth=None, max_features='auto', max_leaf_nodes=None,\n",
       "            min_impurity_decrease=0.0, min_impurity_split=None,\n",
       "            min_samples_leaf=1, min_samples_split=2,\n",
       "            min_weight_fraction_leaf=0.0, n_estimators=10, n_jobs=1,\n",
       "            oob_score=False, random_state=None, verbose=0,\n",
       "            warm_start=False),\n",
       "       fit_params=None, iid=True, n_jobs=-1,\n",
       "       param_grid={'n_estimators': [50, 100, 150, 200], 'min_samples_leaf': [1, 2, 3, 4, 5], 'max_features': ['auto', 'sqrt', None]},\n",
       "       pre_dispatch='2*n_jobs', refit=True, return_train_score='warn',\n",
       "       scoring=make_scorer(f1_score, average=macro, labels=[1]), verbose=0)"
      ]
     },
     "execution_count": 27,
     "metadata": {},
     "output_type": "execute_result"
    }
   ],
   "source": [
    "#lambdas = [1,.9,.8,.7,.6,.5,.4,.3,.2,.1]\n",
    "#n_tree = [100,80,60,40,20]\n",
    "#max_depth = [2,3,4,5,6,7]\n",
    "\n",
    "\n",
    "max_features = ['auto', 'sqrt',None]\n",
    "n_tree = [50,100,150,200]\n",
    "min_samples_leaf = [1,2,3,4,5]\n",
    "\n",
    "\n",
    "param_grid = {'n_estimators': n_tree,\n",
    "               'min_samples_leaf': min_samples_leaf,\n",
    "               'max_features': max_features}\n",
    "\n",
    "myscore = make_scorer(f1s,  average = 'macro',labels=[1] )\n",
    "cv= RepeatedKFold(n_splits=10,n_repeats=10,random_state=132)\n",
    "\n",
    "\n",
    "rf =RandomForestClassifier()\n",
    "\n",
    "grid_search = GridSearchCV(estimator = rf, param_grid = param_grid, \n",
    "                          cv = cv, n_jobs = -1,scoring = myscore)\n",
    "\n",
    "grid_search.fit(df_model_fit.drop(['Player','HOF'],axis=1), df_model_fit.HOF)"
   ]
  },
  {
   "cell_type": "code",
   "execution_count": 29,
   "metadata": {},
   "outputs": [
    {
     "data": {
      "text/plain": [
       "0.6903882487585301"
      ]
     },
     "execution_count": 29,
     "metadata": {},
     "output_type": "execute_result"
    }
   ],
   "source": [
    "grid_search.best_score_"
   ]
  },
  {
   "cell_type": "code",
   "execution_count": 42,
   "metadata": {},
   "outputs": [
    {
     "data": {
      "text/plain": [
       "RandomForestClassifier(bootstrap=True, class_weight=None, criterion='gini',\n",
       "            max_depth=None, max_features='sqrt', max_leaf_nodes=None,\n",
       "            min_impurity_decrease=0.0, min_impurity_split=None,\n",
       "            min_samples_leaf=1, min_samples_split=2,\n",
       "            min_weight_fraction_leaf=0.0, n_estimators=50, n_jobs=1,\n",
       "            oob_score=False, random_state=132, verbose=0, warm_start=False)"
      ]
     },
     "execution_count": 42,
     "metadata": {},
     "output_type": "execute_result"
    }
   ],
   "source": [
    "rf = RandomForestClassifier(n_estimators=grid_search.best_params_['n_estimators'], \n",
    "                            max_features=grid_search.best_params_['max_features'],\n",
    "                            min_samples_leaf=grid_search.best_params_['min_samples_leaf'], \n",
    "                            random_state=132)\n",
    "rf.fit(df_model_fit.drop(['Player','HOF'],axis=1), df_model_fit.HOF)"
   ]
  },
  {
   "cell_type": "code",
   "execution_count": 43,
   "metadata": {},
   "outputs": [],
   "source": [
    "y_pred_rf = rf.predict(df_model_fit.drop(['Player','HOF'],axis=1))"
   ]
  },
  {
   "cell_type": "code",
   "execution_count": 45,
   "metadata": {},
   "outputs": [],
   "source": [
    "def rf_predict(player):\n",
    "    d = df_non_model_fit[df_non_model_fit['Player'] == player]\n",
    "    pred = rf.predict(d.drop(['Player','HOF'],axis=1))\n",
    "    pred_prob = rf.predict_proba(d.drop(['Player','HOF'],axis=1))\n",
    "    return pred, pred_prob"
   ]
  },
  {
   "cell_type": "code",
   "execution_count": 46,
   "metadata": {},
   "outputs": [
    {
     "name": "stdout",
     "output_type": "stream",
     "text": [
      "Amar'e Stoudemire (array([1]), array([[0.2, 0.8]]))\n",
      "Blake Griffin (array([1]), array([[0.42, 0.58]]))\n",
      "Carmelo Anthony (array([1]), array([[0.38, 0.62]]))\n",
      "Chris Paul (array([1]), array([[0.22, 0.78]]))\n",
      "DeAndre Jordan (array([1]), array([[0.44, 0.56]]))\n",
      "Dirk Nowitzki (array([1]), array([[0.08, 0.92]]))\n",
      "Dwight Howard (array([1]), array([[0.14, 0.86]]))\n",
      "Dwyane Wade (array([1]), array([[0.14, 0.86]]))\n",
      "Elton Brand (array([1]), array([[0.4, 0.6]]))\n",
      "Gilbert Arenas (array([1]), array([[0.46, 0.54]]))\n",
      "James Harden (array([1]), array([[0.34, 0.66]]))\n",
      "Kevin Durant (array([1]), array([[0.2, 0.8]]))\n",
      "Kevin Garnett (array([1]), array([[0.2, 0.8]]))\n",
      "Kevin Love (array([1]), array([[0.3, 0.7]]))\n",
      "Kobe Bryant (array([1]), array([[0.24, 0.76]]))\n",
      "LeBron James (array([1]), array([[0.1, 0.9]]))\n",
      "Pau Gasol (array([1]), array([[0.22, 0.78]]))\n",
      "Paul Pierce (array([1]), array([[0.26, 0.74]]))\n",
      "Ray Allen (array([1]), array([[0.32, 0.68]]))\n",
      "Russell Westbrook (array([1]), array([[0.3, 0.7]]))\n",
      "Stephen Curry (array([1]), array([[0.24, 0.76]]))\n",
      "Tim Duncan (array([1]), array([[0.06, 0.94]]))\n",
      "Tracy McGrady (array([1]), array([[0.2, 0.8]]))\n",
      "Vince Carter (array([1]), array([[0.38, 0.62]]))\n"
     ]
    }
   ],
   "source": [
    "for pl in df_non_model['Player']:\n",
    "    if rf_predict(pl)[0] == 1:\n",
    "        print(pl + \" \" + str(rf_predict(pl)))"
   ]
  },
  {
   "cell_type": "markdown",
   "metadata": {},
   "source": [
    "## Boosted tree"
   ]
  },
  {
   "cell_type": "code",
   "execution_count": 70,
   "metadata": {},
   "outputs": [
    {
     "data": {
      "text/plain": [
       "GridSearchCV(cv=<sklearn.model_selection._split.RepeatedKFold object at 0x0000022026622278>,\n",
       "       error_score='raise',\n",
       "       estimator=GradientBoostingClassifier(criterion='friedman_mse', init=None,\n",
       "              learning_rate=0.1, loss='deviance', max_depth=3,\n",
       "              max_features=None, max_leaf_nodes=None,\n",
       "              min_impurity_decrease=0.0, min_impurity_split=None,\n",
       "              min_samples_leaf=1, min_samples_split=2,\n",
       "              min_weight_fraction_leaf=0.0, n_estimators=100,\n",
       "              presort='auto', random_state=None, subsample=1.0, verbose=0,\n",
       "              warm_start=False),\n",
       "       fit_params=None, iid=True, n_jobs=-1,\n",
       "       param_grid={'n_estimators': [85, 80, 75], 'learning_rate': [0.19, 0.2], 'max_depth': [6]},\n",
       "       pre_dispatch='2*n_jobs', refit=True, return_train_score='warn',\n",
       "       scoring=make_scorer(f1_score, average=macro, labels=[1]), verbose=0)"
      ]
     },
     "execution_count": 70,
     "metadata": {},
     "output_type": "execute_result"
    }
   ],
   "source": [
    "lambdas = [1,.9,.8,.7,.6,.5,.4,.3,.2,.1]\n",
    "n_tree = [100,80,60,40,20]\n",
    "max_depth = [2,3,4,5,6,7]\n",
    "\n",
    "\n",
    "\n",
    "param_grid = {'n_estimators': n_tree,\n",
    "               'learning_rate': lambdas,\n",
    "               'max_depth': max_depth}\n",
    "\n",
    "myscore = make_scorer(f1s,  average = 'macro',labels=[1] )\n",
    "cv= RepeatedKFold(n_splits=10,n_repeats=20,random_state=132)\n",
    "\n",
    "\n",
    "b = GradientBoostingClassifier()\n",
    "\n",
    "grid_search = GridSearchCV(estimator = b, param_grid = param_grid, \n",
    "                          cv = cv, n_jobs = -1,scoring = myscore)\n",
    "\n",
    "grid_search.fit(df_model_fit.drop(['Player','HOF'],axis=1), df_model_fit.HOF)\n",
    "\n",
    "\n",
    "\n"
   ]
  },
  {
   "cell_type": "code",
   "execution_count": 152,
   "metadata": {},
   "outputs": [
    {
     "data": {
      "text/plain": [
       "{'learning_rate': 0.2, 'max_depth': 6, 'n_estimators': 85}"
      ]
     },
     "execution_count": 152,
     "metadata": {},
     "output_type": "execute_result"
    }
   ],
   "source": [
    "best=grid_search.best_params_\n",
    "best"
   ]
  },
  {
   "cell_type": "code",
   "execution_count": 153,
   "metadata": {},
   "outputs": [
    {
     "data": {
      "text/plain": [
       "0.6913019473711881"
      ]
     },
     "execution_count": 153,
     "metadata": {},
     "output_type": "execute_result"
    }
   ],
   "source": [
    "grid_search.best_score_"
   ]
  },
  {
   "cell_type": "markdown",
   "metadata": {},
   "source": [
    "#### fit model with best paramters"
   ]
  },
  {
   "cell_type": "code",
   "execution_count": 19,
   "metadata": {},
   "outputs": [
    {
     "data": {
      "text/plain": [
       "GradientBoostingClassifier(criterion='friedman_mse', init=None,\n",
       "              learning_rate=0.1, loss='deviance', max_depth=5,\n",
       "              max_features=None, max_leaf_nodes=None,\n",
       "              min_impurity_decrease=0.0, min_impurity_split=None,\n",
       "              min_samples_leaf=1, min_samples_split=2,\n",
       "              min_weight_fraction_leaf=0.0, n_estimators=100,\n",
       "              presort='auto', random_state=None, subsample=1.0, verbose=0,\n",
       "              warm_start=False)"
      ]
     },
     "execution_count": 19,
     "metadata": {},
     "output_type": "execute_result"
    }
   ],
   "source": [
    "b = GradientBoostingClassifier(learning_rate=grid_search.best_params_['learning_rate'], \n",
    "                               n_estimators=grid_search.best_params_['n_estimators'],\n",
    "                                                 max_depth=grid_search.best_params_['max_depth'])\n",
    "b.fit(df_model_fit.drop(['Player','HOF'],axis=1), df_model_fit.HOF)"
   ]
  },
  {
   "cell_type": "code",
   "execution_count": 94,
   "metadata": {},
   "outputs": [],
   "source": [
    "y_pred_b = b.predict(df_model_fit.drop(['Player','HOF'],axis=1))"
   ]
  },
  {
   "cell_type": "code",
   "execution_count": 155,
   "metadata": {},
   "outputs": [],
   "source": [
    "def bs_predict(player):\n",
    "    \n",
    "    d = df_non_model_fit[df_non_model_fit['Player'] == player]\n",
    "    pred = b.predict(d.drop(['Player','HOF'],axis=1))\n",
    "    pred_prob = b.predict_proba(d.drop(['Player','HOF'],axis=1))\n",
    "    return pred, pred_prob"
   ]
  },
  {
   "cell_type": "code",
   "execution_count": 156,
   "metadata": {},
   "outputs": [
    {
     "name": "stdout",
     "output_type": "stream",
     "text": [
      "Amar'e Stoudemire (array([1]), array([[0.05444948, 0.94555052]]))\n",
      "Blake Griffin (array([1]), array([[3.43768900e-04, 9.99656231e-01]]))\n",
      "Carmelo Anthony (array([1]), array([[0.0016427, 0.9983573]]))\n",
      "Chris Paul (array([1]), array([[0.00748688, 0.99251312]]))\n",
      "DeAndre Jordan (array([1]), array([[0.22327803, 0.77672197]]))\n",
      "DeMarcus Cousins (array([1]), array([[0.17458287, 0.82541713]]))\n",
      "Dirk Nowitzki (array([1]), array([[7.65058048e-05, 9.99923494e-01]]))\n",
      "Dwight Howard (array([1]), array([[8.15124469e-05, 9.99918488e-01]]))\n",
      "Dwyane Wade (array([1]), array([[1.70925341e-04, 9.99829075e-01]]))\n",
      "Elton Brand (array([1]), array([[0.01867171, 0.98132829]]))\n",
      "Gilbert Arenas (array([1]), array([[0.04168782, 0.95831218]]))\n",
      "James Harden (array([1]), array([[0.00463622, 0.99536378]]))\n",
      "John Wall (array([1]), array([[0.04812249, 0.95187751]]))\n",
      "Kevin Durant (array([1]), array([[2.33700177e-05, 9.99976630e-01]]))\n",
      "Kevin Garnett (array([1]), array([[0.00255973, 0.99744027]]))\n",
      "Kevin Love (array([1]), array([[0.06065871, 0.93934129]]))\n",
      "Kobe Bryant (array([1]), array([[5.84315279e-05, 9.99941568e-01]]))\n",
      "LeBron James (array([1]), array([[1.92411247e-05, 9.99980759e-01]]))\n",
      "Pau Gasol (array([1]), array([[1.06638421e-04, 9.99893362e-01]]))\n",
      "Paul George (array([1]), array([[0.13759095, 0.86240905]]))\n",
      "Paul Pierce (array([1]), array([[0.00603404, 0.99396596]]))\n",
      "Ray Allen (array([1]), array([[0.00281039, 0.99718961]]))\n",
      "Russell Westbrook (array([1]), array([[6.93468610e-04, 9.99306531e-01]]))\n",
      "Stephen Curry (array([1]), array([[0.00148078, 0.99851922]]))\n",
      "Tim Duncan (array([1]), array([[8.54838911e-04, 9.99145161e-01]]))\n",
      "Tracy McGrady (array([1]), array([[0.0067977, 0.9932023]]))\n",
      "Vince Carter (array([1]), array([[0.00946127, 0.99053873]]))\n"
     ]
    }
   ],
   "source": [
    "for pl in df_non_model['Player']:\n",
    "    if bs_predict(pl)[0] == 1:\n",
    "        print(pl + \" \" + str(bs_predict(pl)))"
   ]
  },
  {
   "cell_type": "markdown",
   "metadata": {},
   "source": [
    "## SIMILARITY"
   ]
  },
  {
   "cell_type": "markdown",
   "metadata": {},
   "source": [
    "### sample by one player"
   ]
  },
  {
   "cell_type": "code",
   "execution_count": 64,
   "metadata": {},
   "outputs": [],
   "source": [
    "def player_dist(player):\n",
    "    d = df_non_model_fit[df_non_model_fit['Player'] == player].drop(['HOF','Player'],axis=1)\n",
    "    \n",
    "    return d"
   ]
  },
  {
   "cell_type": "code",
   "execution_count": 65,
   "metadata": {},
   "outputs": [
    {
     "data": {
      "text/html": [
       "<div>\n",
       "<style scoped>\n",
       "    .dataframe tbody tr th:only-of-type {\n",
       "        vertical-align: middle;\n",
       "    }\n",
       "\n",
       "    .dataframe tbody tr th {\n",
       "        vertical-align: top;\n",
       "    }\n",
       "\n",
       "    .dataframe thead th {\n",
       "        text-align: right;\n",
       "    }\n",
       "</style>\n",
       "<table border=\"1\" class=\"dataframe\">\n",
       "  <thead>\n",
       "    <tr style=\"text-align: right;\">\n",
       "      <th></th>\n",
       "      <th>Year_x</th>\n",
       "      <th>WS</th>\n",
       "      <th>3P</th>\n",
       "      <th>TRB</th>\n",
       "      <th>AST</th>\n",
       "      <th>STL</th>\n",
       "      <th>BLK</th>\n",
       "      <th>PTS</th>\n",
       "    </tr>\n",
       "  </thead>\n",
       "  <tbody>\n",
       "    <tr>\n",
       "      <th>546</th>\n",
       "      <td>8</td>\n",
       "      <td>16.4</td>\n",
       "      <td>2.247154</td>\n",
       "      <td>5.029268</td>\n",
       "      <td>5.733333</td>\n",
       "      <td>1.469919</td>\n",
       "      <td>0.445528</td>\n",
       "      <td>22.143089</td>\n",
       "    </tr>\n",
       "  </tbody>\n",
       "</table>\n",
       "</div>"
      ],
      "text/plain": [
       "     Year_x    WS        3P       TRB       AST       STL       BLK        PTS\n",
       "546       8  16.4  2.247154  5.029268  5.733333  1.469919  0.445528  22.143089"
      ]
     },
     "execution_count": 65,
     "metadata": {},
     "output_type": "execute_result"
    }
   ],
   "source": [
    "player_dist('James Harden')"
   ]
  },
  {
   "cell_type": "code",
   "execution_count": 66,
   "metadata": {},
   "outputs": [],
   "source": [
    "df_model_fit_new = df_model_fit.reset_index()\n",
    "df_model_fit_new = df_model_fit_new.drop(['index'],axis=1)"
   ]
  },
  {
   "cell_type": "code",
   "execution_count": 194,
   "metadata": {},
   "outputs": [
    {
     "data": {
      "text/html": [
       "<div>\n",
       "<style scoped>\n",
       "    .dataframe tbody tr th:only-of-type {\n",
       "        vertical-align: middle;\n",
       "    }\n",
       "\n",
       "    .dataframe tbody tr th {\n",
       "        vertical-align: top;\n",
       "    }\n",
       "\n",
       "    .dataframe thead th {\n",
       "        text-align: right;\n",
       "    }\n",
       "</style>\n",
       "<table border=\"1\" class=\"dataframe\">\n",
       "  <thead>\n",
       "    <tr style=\"text-align: right;\">\n",
       "      <th></th>\n",
       "      <th>Year_x</th>\n",
       "      <th>WS</th>\n",
       "      <th>3P</th>\n",
       "      <th>TRB</th>\n",
       "      <th>AST</th>\n",
       "      <th>STL</th>\n",
       "      <th>BLK</th>\n",
       "      <th>PTS</th>\n",
       "      <th>HOF</th>\n",
       "      <th>Player</th>\n",
       "    </tr>\n",
       "  </thead>\n",
       "  <tbody>\n",
       "    <tr>\n",
       "      <th>0</th>\n",
       "      <td>16</td>\n",
       "      <td>9.4</td>\n",
       "      <td>0.097027</td>\n",
       "      <td>7.412363</td>\n",
       "      <td>1.095462</td>\n",
       "      <td>0.808294</td>\n",
       "      <td>0.427230</td>\n",
       "      <td>9.648670</td>\n",
       "      <td>0</td>\n",
       "      <td>A.C. Green</td>\n",
       "    </tr>\n",
       "    <tr>\n",
       "      <th>1</th>\n",
       "      <td>13</td>\n",
       "      <td>5.9</td>\n",
       "      <td>0.489281</td>\n",
       "      <td>3.262295</td>\n",
       "      <td>2.680958</td>\n",
       "      <td>1.150063</td>\n",
       "      <td>0.206810</td>\n",
       "      <td>7.403531</td>\n",
       "      <td>0</td>\n",
       "      <td>Aaron McKie</td>\n",
       "    </tr>\n",
       "    <tr>\n",
       "      <th>2</th>\n",
       "      <td>14</td>\n",
       "      <td>5.2</td>\n",
       "      <td>0.001399</td>\n",
       "      <td>3.902098</td>\n",
       "      <td>0.678322</td>\n",
       "      <td>0.394406</td>\n",
       "      <td>0.753846</td>\n",
       "      <td>5.762238</td>\n",
       "      <td>0</td>\n",
       "      <td>Aaron Williams</td>\n",
       "    </tr>\n",
       "    <tr>\n",
       "      <th>3</th>\n",
       "      <td>9</td>\n",
       "      <td>6.5</td>\n",
       "      <td>0.001621</td>\n",
       "      <td>4.142626</td>\n",
       "      <td>0.692058</td>\n",
       "      <td>0.497569</td>\n",
       "      <td>0.280389</td>\n",
       "      <td>5.035656</td>\n",
       "      <td>0</td>\n",
       "      <td>Adam Keefe</td>\n",
       "    </tr>\n",
       "    <tr>\n",
       "      <th>4</th>\n",
       "      <td>12</td>\n",
       "      <td>4.0</td>\n",
       "      <td>0.000000</td>\n",
       "      <td>4.721692</td>\n",
       "      <td>0.469304</td>\n",
       "      <td>0.360164</td>\n",
       "      <td>1.627558</td>\n",
       "      <td>4.077763</td>\n",
       "      <td>0</td>\n",
       "      <td>Adonal Foyle</td>\n",
       "    </tr>\n",
       "  </tbody>\n",
       "</table>\n",
       "</div>"
      ],
      "text/plain": [
       "   Year_x   WS        3P       TRB       AST       STL       BLK       PTS  \\\n",
       "0      16  9.4  0.097027  7.412363  1.095462  0.808294  0.427230  9.648670   \n",
       "1      13  5.9  0.489281  3.262295  2.680958  1.150063  0.206810  7.403531   \n",
       "2      14  5.2  0.001399  3.902098  0.678322  0.394406  0.753846  5.762238   \n",
       "3       9  6.5  0.001621  4.142626  0.692058  0.497569  0.280389  5.035656   \n",
       "4      12  4.0  0.000000  4.721692  0.469304  0.360164  1.627558  4.077763   \n",
       "\n",
       "   HOF          Player  \n",
       "0    0      A.C. Green  \n",
       "1    0     Aaron McKie  \n",
       "2    0  Aaron Williams  \n",
       "3    0      Adam Keefe  \n",
       "4    0    Adonal Foyle  "
      ]
     },
     "execution_count": 194,
     "metadata": {},
     "output_type": "execute_result"
    }
   ],
   "source": [
    "df_model_fit_new.head()"
   ]
  },
  {
   "cell_type": "markdown",
   "metadata": {},
   "source": [
    "## correlation"
   ]
  },
  {
   "cell_type": "code",
   "execution_count": 67,
   "metadata": {},
   "outputs": [],
   "source": [
    "def corr_dist(top,player):\n",
    "    df = player_dist(player)\n",
    "    df_corr = pd.DataFrame(columns=['Player','Corr'])\n",
    "    for i in range(len(df_model_fit_new['Player'])):\n",
    "        df_corr = df_corr.append({'Player': df_model_fit_new['Player'][i], \n",
    "                        'Corr':np.corrcoef(df_model_fit_new.drop(['HOF','Player'],axis=1).iloc[i,], df)[0][1]}, ignore_index=True)\n",
    "        i +=1\n",
    "    df_corr.set_index('Player')\n",
    "    df_corr_top = df_corr.sort_values(by='Corr', ascending=False).head(top)\n",
    "    \n",
    "    return df_corr_top"
   ]
  },
  {
   "cell_type": "code",
   "execution_count": null,
   "metadata": {},
   "outputs": [],
   "source": [
    "corr = []\n",
    "df = df_model_fit_new.drop(['HOF','Player'],axis=1)\n",
    "def corr_dist(top,player):    \n",
    "    pl = player_dist(player)\n",
    "    corr = np.corrcoef(df_model_fit_new.drop(['HOF','Player'],axis=1).iloc[i,], df)[0][1]}, ignore_index=True)\n",
    "     \n",
    "    return df_corr_top\n"
   ]
  },
  {
   "cell_type": "code",
   "execution_count": 68,
   "metadata": {},
   "outputs": [
    {
     "data": {
      "text/html": [
       "<div>\n",
       "<style scoped>\n",
       "    .dataframe tbody tr th:only-of-type {\n",
       "        vertical-align: middle;\n",
       "    }\n",
       "\n",
       "    .dataframe tbody tr th {\n",
       "        vertical-align: top;\n",
       "    }\n",
       "\n",
       "    .dataframe thead th {\n",
       "        text-align: right;\n",
       "    }\n",
       "</style>\n",
       "<table border=\"1\" class=\"dataframe\">\n",
       "  <thead>\n",
       "    <tr style=\"text-align: right;\">\n",
       "      <th></th>\n",
       "      <th>Player</th>\n",
       "      <th>Corr</th>\n",
       "    </tr>\n",
       "  </thead>\n",
       "  <tbody>\n",
       "    <tr>\n",
       "      <th>543</th>\n",
       "      <td>Larry Kenon</td>\n",
       "      <td>0.993635</td>\n",
       "    </tr>\n",
       "    <tr>\n",
       "      <th>176</th>\n",
       "      <td>Connie Hawkins</td>\n",
       "      <td>0.993401</td>\n",
       "    </tr>\n",
       "    <tr>\n",
       "      <th>100</th>\n",
       "      <td>Brad Daugherty</td>\n",
       "      <td>0.992061</td>\n",
       "    </tr>\n",
       "    <tr>\n",
       "      <th>342</th>\n",
       "      <td>George Yardley</td>\n",
       "      <td>0.991148</td>\n",
       "    </tr>\n",
       "    <tr>\n",
       "      <th>192</th>\n",
       "      <td>Dan Issel</td>\n",
       "      <td>0.987771</td>\n",
       "    </tr>\n",
       "    <tr>\n",
       "      <th>67</th>\n",
       "      <td>Billy Cunningham</td>\n",
       "      <td>0.987545</td>\n",
       "    </tr>\n",
       "    <tr>\n",
       "      <th>340</th>\n",
       "      <td>George McGinnis</td>\n",
       "      <td>0.983512</td>\n",
       "    </tr>\n",
       "    <tr>\n",
       "      <th>917</th>\n",
       "      <td>Yao Ming</td>\n",
       "      <td>0.983403</td>\n",
       "    </tr>\n",
       "    <tr>\n",
       "      <th>420</th>\n",
       "      <td>Jeff Ruland</td>\n",
       "      <td>0.982571</td>\n",
       "    </tr>\n",
       "    <tr>\n",
       "      <th>681</th>\n",
       "      <td>Paul Arizin</td>\n",
       "      <td>0.979078</td>\n",
       "    </tr>\n",
       "  </tbody>\n",
       "</table>\n",
       "</div>"
      ],
      "text/plain": [
       "               Player      Corr\n",
       "543       Larry Kenon  0.993635\n",
       "176    Connie Hawkins  0.993401\n",
       "100    Brad Daugherty  0.992061\n",
       "342    George Yardley  0.991148\n",
       "192         Dan Issel  0.987771\n",
       "67   Billy Cunningham  0.987545\n",
       "340   George McGinnis  0.983512\n",
       "917          Yao Ming  0.983403\n",
       "420       Jeff Ruland  0.982571\n",
       "681       Paul Arizin  0.979078"
      ]
     },
     "execution_count": 68,
     "metadata": {},
     "output_type": "execute_result"
    }
   ],
   "source": [
    "corr_dist(10, 'Blake Griffin')"
   ]
  },
  {
   "cell_type": "markdown",
   "metadata": {},
   "source": [
    "## Cosine"
   ]
  },
  {
   "cell_type": "code",
   "execution_count": 57,
   "metadata": {},
   "outputs": [],
   "source": [
    "def cos_dist(top,player):\n",
    "    df = player_dist(player)\n",
    "    df_cos = pd.DataFrame(columns=['Player','Cos'])\n",
    "    for i in range(len(df_model_fit_new['Player'])):\n",
    "        df_cos = df_cos.append({'Player': df_model_fit_new['Player'][i], \n",
    "                        'Cos':1 - spatial.distance.cosine(df, df_model_fit_new.drop(['HOF','Player'],axis=1).iloc[i,])}, ignore_index=True)\n",
    "        i +=1\n",
    "    df_cos.set_index('Player')\n",
    "    df_cos_top = df_cos.sort_values(by='Cos', ascending=False).head(top)\n",
    "    \n",
    "    return df_cos_top"
   ]
  },
  {
   "cell_type": "code",
   "execution_count": 58,
   "metadata": {},
   "outputs": [
    {
     "data": {
      "text/html": [
       "<div>\n",
       "<style scoped>\n",
       "    .dataframe tbody tr th:only-of-type {\n",
       "        vertical-align: middle;\n",
       "    }\n",
       "\n",
       "    .dataframe tbody tr th {\n",
       "        vertical-align: top;\n",
       "    }\n",
       "\n",
       "    .dataframe thead th {\n",
       "        text-align: right;\n",
       "    }\n",
       "</style>\n",
       "<table border=\"1\" class=\"dataframe\">\n",
       "  <thead>\n",
       "    <tr style=\"text-align: right;\">\n",
       "      <th></th>\n",
       "      <th>Player</th>\n",
       "      <th>Cos</th>\n",
       "    </tr>\n",
       "  </thead>\n",
       "  <tbody>\n",
       "    <tr>\n",
       "      <th>544</th>\n",
       "      <td>Larry Kenon</td>\n",
       "      <td>0.996862</td>\n",
       "    </tr>\n",
       "    <tr>\n",
       "      <th>176</th>\n",
       "      <td>Connie Hawkins*</td>\n",
       "      <td>0.996535</td>\n",
       "    </tr>\n",
       "    <tr>\n",
       "      <th>100</th>\n",
       "      <td>Brad Daugherty</td>\n",
       "      <td>0.995897</td>\n",
       "    </tr>\n",
       "    <tr>\n",
       "      <th>343</th>\n",
       "      <td>George Yardley*</td>\n",
       "      <td>0.994363</td>\n",
       "    </tr>\n",
       "    <tr>\n",
       "      <th>192</th>\n",
       "      <td>Dan Issel*</td>\n",
       "      <td>0.993889</td>\n",
       "    </tr>\n",
       "    <tr>\n",
       "      <th>67</th>\n",
       "      <td>Billy Cunningham*</td>\n",
       "      <td>0.993819</td>\n",
       "    </tr>\n",
       "    <tr>\n",
       "      <th>918</th>\n",
       "      <td>Yao Ming*</td>\n",
       "      <td>0.991891</td>\n",
       "    </tr>\n",
       "    <tr>\n",
       "      <th>341</th>\n",
       "      <td>George McGinnis</td>\n",
       "      <td>0.991358</td>\n",
       "    </tr>\n",
       "    <tr>\n",
       "      <th>421</th>\n",
       "      <td>Jeff Ruland</td>\n",
       "      <td>0.991241</td>\n",
       "    </tr>\n",
       "    <tr>\n",
       "      <th>294</th>\n",
       "      <td>Elgin Baylor*</td>\n",
       "      <td>0.988860</td>\n",
       "    </tr>\n",
       "  </tbody>\n",
       "</table>\n",
       "</div>"
      ],
      "text/plain": [
       "                Player       Cos\n",
       "544        Larry Kenon  0.996862\n",
       "176    Connie Hawkins*  0.996535\n",
       "100     Brad Daugherty  0.995897\n",
       "343    George Yardley*  0.994363\n",
       "192         Dan Issel*  0.993889\n",
       "67   Billy Cunningham*  0.993819\n",
       "918          Yao Ming*  0.991891\n",
       "341    George McGinnis  0.991358\n",
       "421        Jeff Ruland  0.991241\n",
       "294      Elgin Baylor*  0.988860"
      ]
     },
     "execution_count": 58,
     "metadata": {},
     "output_type": "execute_result"
    }
   ],
   "source": [
    "cos_dist(10,'Blake Griffin')"
   ]
  },
  {
   "cell_type": "markdown",
   "metadata": {},
   "source": [
    "## Euclid"
   ]
  },
  {
   "cell_type": "code",
   "execution_count": 277,
   "metadata": {},
   "outputs": [],
   "source": [
    "players = df_model_fit['Player'].tolist()\n",
    "f = ['Year_x','WS','3P','TRB','AST','STL','BLK','PTS']\n",
    "def euc_dist(top, player):\n",
    "    \n",
    "    df = df_non_model_fit[f][df_non_model.Player == player]\n",
    "    df_euc = pd.DataFrame(columns=['Player','Player1','Euc'])\n",
    "    \n",
    "    for p in range(len(players)):\n",
    "        df_euc = df_euc.append({'Player':player,'Player1': players[p], \n",
    "                        'Euc':np.linalg.norm(df - df_model_fit[f][df_model_fit.Player==players[p]].iloc[0,])}, ignore_index=True)\n",
    "        p +=1\n",
    "    #df_euc.set_index('Player')\n",
    "    df_euc_top = df_euc.sort_values(by='Euc', ascending=True).head(top)\n",
    "    df_euc_top = df_euc_top.drop(['Euc'],axis=1)\n",
    "    \n",
    "    return df_euc_top"
   ]
  }
 ],
 "metadata": {
  "kernelspec": {
   "display_name": "Python 3",
   "language": "python",
   "name": "python3"
  },
  "language_info": {
   "codemirror_mode": {
    "name": "ipython",
    "version": 3
   },
   "file_extension": ".py",
   "mimetype": "text/x-python",
   "name": "python",
   "nbconvert_exporter": "python",
   "pygments_lexer": "ipython3",
   "version": "3.7.3"
  }
 },
 "nbformat": 4,
 "nbformat_minor": 2
}
